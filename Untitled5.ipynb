{
  "nbformat": 4,
  "nbformat_minor": 0,
  "metadata": {
    "colab": {
      "provenance": []
    },
    "kernelspec": {
      "name": "python3",
      "display_name": "Python 3"
    },
    "language_info": {
      "name": "python"
    }
  },
  "cells": [
    {
      "cell_type": "markdown",
      "source": [
        "#Statistics Basics Assignment Questions"
      ],
      "metadata": {
        "id": "RJtUQpRvvXta"
      }
    },
    {
      "cell_type": "markdown",
      "source": [
        "###1.Explain the different types of data (qualitative and quantitative) and provide examples of each. Discuss nominal, ordinal, interval, and ratio scales"
      ],
      "metadata": {
        "id": "jhiZjCGcu5BO"
      }
    },
    {
      "cell_type": "markdown",
      "source": [
        "-> Types of Data:\n",
        "\n",
        "Data can be broadly classified into two main categories:\n",
        "\n",
        "Qualitative Data (Categorical Data):\n",
        "\n",
        "This type of data describes qualities or characteristics. It cannot be measured numerically.\n",
        "It deals with descriptions that can be observed but not measured.\n",
        "\n",
        "Examples:\n",
        "Hair color (e.g., brown, black, blonde)\n",
        "Eye color (e.g., blue, green, brown)\n",
        "Types of fruits (e.g., apple, banana, orange)\n",
        "Customer satisfaction (e.g., satisfied, neutral, dissatisfied)\n",
        "Gender (e.g. male, female, non-binary)\n",
        "\n",
        "Quantitative Data (Numerical Data):\n",
        "\n",
        "This type of data represents numerical measurements.\n",
        "It can be counted or measured.\n",
        "\n",
        "Examples:\n",
        "Age (e.g., 25 years old)\n",
        "Height (e.g., 175 cm)\n",
        "Weight (e.g., 70 kg)\n",
        "Temperature (e.g., 25°C)\n",
        "Number of sales.\n",
        "\n",
        "1. Nominal Scale (Qualitative):\n",
        "\n",
        "This scale categorizes data into distinct, unordered categories.\n",
        "There is no inherent ranking or order among the categories.\n",
        "You can count the frequency of each category.\n",
        "\n",
        "2. Ordinal Scale (Qualitative):\n",
        "\n",
        "This scale categorizes data into ordered categories.\n",
        "There is a meaningful ranking or order among the categories, but the intervals between the categories are not necessarily equal.\n",
        "You can determine if one category is \"greater than\" or \"less than\" another.\n",
        "\n",
        "3. Interval Scale (Quantitative):\n",
        "\n",
        "This scale measures data with equal intervals between values.\n",
        "There is no true zero point, meaning that zero does not indicate the absence of the measured attribute.\n",
        "You can perform addition and subtraction operations.\n",
        "\n",
        "4. Ratio Scale (Quantitative):\n",
        "\n",
        "This scale measures data with equal intervals and a true zero point.\n",
        "Zero indicates the absence of the measured attribute.\n",
        "You can perform all arithmetic operations (addition, subtraction, multiplication, division).\n",
        "\n"
      ],
      "metadata": {
        "id": "JN_mr-7x7okh"
      }
    },
    {
      "cell_type": "markdown",
      "source": [
        "###2.What are the measures of central tendency, and when should you use each? Discuss the mean, median,and mode with examples and situations where each is appropriate."
      ],
      "metadata": {
        "id": "vMHoh4bQu5NA"
      }
    },
    {
      "cell_type": "markdown",
      "source": [
        "-> Measures of central tendency are single values that attempt to describe a set of data by identifying the central position within that set. They are used to summarize data and give a sense of the \"typical\" value. The three main measures of central tendency are the mean, median, and mode.\n",
        "\n",
        "1. Mean (Average):\n",
        "\n",
        "Definition: The mean is the sum of all values in a dataset divided by the number of values.\n",
        "Formula: Mean (μ or x̄) = Σx / n, where Σx is the sum of all values and n is the number of values.\n",
        "Example: For the dataset {2, 4, 6, 8, 10}, the mean is (2 + 4 + 6 + 8 + 10) / 5 = 30 / 5 = 6.\n",
        "When to Use:\n",
        "Use the mean when the data is roughly symmetrical and there are no significant outliers.\n",
        "It is the most commonly used measure of central tendency because it uses all the data points.\n",
        "Suitable for interval and ratio data.\n",
        "Example: Average test scores of a class, average height of a population.\n",
        "When to Avoid:\n",
        "Avoid the mean when the data is skewed or contains outliers, as these can significantly affect its value.\n",
        "Example: Average income in a neighborhood with a few very wealthy residents.\n",
        "2. Median:\n",
        "\n",
        "Definition: The median is the middle value in a dataset when the data is ordered from least to greatest. If there is an even number of values, the median is the average of the two middle values.\n",
        "Example: For the dataset {2, 4, 6, 8, 10}, the median is 6. For the dataset {2, 4, 6, 8}, the median is (4 + 6) / 2 = 5.\n",
        "When to Use:\n",
        "Use the median when the data is skewed or contains outliers, as it is less affected by extreme values than the mean.\n",
        "Suitable for ordinal, interval, and ratio data.\n",
        "Example: Median home prices in a city, median income of a population.\n",
        "When to Avoid:\n",
        "The median may not be as representative as the mean when the data is symmetrical and there are no outliers.\n",
        "The Median also does not use every data point, and therefore loses some information.\n",
        "3. Mode:\n",
        "\n",
        "Definition: The mode is the value that appears most frequently in a dataset. A dataset can have no mode, one mode (unimodal), or multiple modes (bimodal, trimodal, etc.).\n",
        "Example: For the dataset {2, 4, 4, 6, 8}, the mode is 4. For the dataset {2, 4, 4, 6, 6, 8} there are two modes, 4 and 6, so it is bimodal.\n",
        "When to Use:\n",
        "Use the mode when you want to identify the most common value in a dataset.\n",
        "Useful for categorical data (nominal) as well as numerical data.\n",
        "Example: Most popular shoe size, most common color of cars in a parking lot.\n",
        "When to Avoid:\n",
        "The mode may not be very informative if there are many unique values or if all values appear with similar frequencies.\n",
        "The mode is not very stable, and small changes in the data can drastically change the mode."
      ],
      "metadata": {
        "id": "parPAN509HYs"
      }
    },
    {
      "cell_type": "markdown",
      "source": [
        "###3.Explain the concept of dispersion. How do variance and standard deviation measure the spread of data."
      ],
      "metadata": {
        "id": "1-u4hAPIu5Wx"
      }
    },
    {
      "cell_type": "markdown",
      "source": [
        "-> In statistics, \"dispersion\" refers to how spread out a set of data is. It essentially tells you how much the values in a dataset vary from each other and from the average. Here's a breakdown:\n",
        "\n",
        "Understanding Dispersion\n",
        "\n",
        "What it measures:\n",
        "\n",
        "Dispersion quantifies the variability or scatter of data points.\n",
        "It helps understand whether data is tightly clustered around the mean or widely spread out.\n",
        "\n",
        "Why it's important:\n",
        "\n",
        "Knowing the dispersion of data is crucial for understanding its characteristics.\n",
        "\n",
        "It helps assess the reliability of the average.\n",
        "It's essential for making informed decisions based on data.\n",
        "Variance and Standard Deviation as Measures of Dispersion\n",
        "\n",
        "Variance and standard deviation are two of the most common and important measures of dispersion. Here's how they work:\n",
        "\n",
        "Variance:\n",
        "Variance measures the average of the squared differences between each data point and the mean.\n",
        "In simpler terms, it calculates how far each number in the set is from the average, squares those differences (to get rid of negative signs), and then averages the results.\n",
        "A higher variance indicates that the data points are more spread out, while a lower variance indicates they are closer to the mean.\n",
        "\n",
        "\n"
      ],
      "metadata": {
        "id": "Z1BVc77ou5ci"
      }
    },
    {
      "cell_type": "markdown",
      "source": [
        "###4.What is a box plot, and what can it tell you about the distribution of data?"
      ],
      "metadata": {
        "id": "1RVg1FYzu5hy"
      }
    },
    {
      "cell_type": "markdown",
      "source": [
        "-> A box plot, also known as a box-and-whisker plot, is a standardized way to visually represent the distribution of a dataset.\n",
        " It's particularly useful for summarizing and comparing datasets.\n",
        " Key Components and What They Represent:\n",
        "\n",
        "The Box:\n",
        "\n",
        "Represents the interquartile range (IQR), which contains the middle 50% of the data.\n",
        "The left edge of the box is the first quartile (Q1), or the 25th percentile.\n",
        "The right edge of the box is the third quartile (Q3), or the 75th percentile.\n",
        "A line inside the box marks the median (Q2), or the 50th percentile.\n",
        "\n",
        "The Whiskers:\n",
        "\n",
        "Extend from the box to indicate the range of the remaining data.\n",
        "Typically, they extend to the minimum and maximum values within a defined range (often 1.5 times the IQR).\n",
        "\n",
        "Outliers:\n",
        "\n",
        "Individual points plotted beyond the whiskers.\n",
        "\n",
        "Represent data points that are significantly different from the rest of the dataset.\n"
      ],
      "metadata": {
        "id": "GZpXJjHFu5nC"
      }
    },
    {
      "cell_type": "markdown",
      "source": [
        "###5. Discuss the role of random sampling in making inferences about populations."
      ],
      "metadata": {
        "id": "xmXgDin7u5sa"
      }
    },
    {
      "cell_type": "markdown",
      "source": [
        "-> Random sampling is a cornerstone of statistical inference, playing a vital role in allowing researchers to draw conclusions about a large population based on data collected from a smaller subset. Here's a breakdown of its crucial role:\n",
        "\n",
        "1. Ensuring Representativeness:\n",
        "\n",
        "Minimizing Bias:\n",
        "The primary goal of random sampling is to create a sample that accurately reflects the characteristics of the overall population. By giving every member of the population an equal chance of being selected, random sampling minimizes the potential for bias.\n",
        "Bias can occur when certain segments of the population are over- or underrepresented in the sample, leading to skewed results that do not accurately reflect the population as a whole.\n",
        "Achieving Generalizability:\n",
        "A representative sample allows researchers to generalize their findings from the sample to the broader population with a higher degree of confidence.\n",
        "2. Enabling Statistical Inference:\n",
        "\n",
        "Probability and Confidence:\n",
        "Random sampling provides a foundation for using probability theory to make statistical inferences. Researchers can calculate the likelihood that the results obtained from the sample accurately represent the population.\n",
        "This allows them to quantify the level of uncertainty associated with their findings, providing a measure of confidence in their conclusions.\n",
        "Hypothesis Testing:\n",
        "Random sampling is essential for conducting hypothesis tests, which are used to determine whether observed differences or relationships in the sample are statistically significant and likely to exist in the population.\n",
        "3. Reducing Sampling Error:\n",
        "\n",
        "Natural Variation:\n",
        "Even with random sampling, some degree of sampling error is inevitable due to natural variation within the population. However, random sampling helps to minimize systematic error, which is caused by bias.\n",
        "Increased Accuracy:\n",
        "By reducing bias, random sampling increases the accuracy of estimates and inferences about the population."
      ],
      "metadata": {
        "id": "dnQgr5mvy15x"
      }
    },
    {
      "cell_type": "markdown",
      "source": [
        "###6.  Explain the concept of skewness and its types. How does skewness affect the interpretation of data?"
      ],
      "metadata": {
        "id": "tWEBQTvcy39w"
      }
    },
    {
      "cell_type": "markdown",
      "source": [
        "-> Skewness is a measure of the asymmetry of a probability distribution. In simpler terms, it tells you whether a distribution is lopsided or symmetrical. A symmetrical distribution, like a normal distribution, has zero skewness. When a distribution is skewed, it means the tail on one side of the distribution is longer or fatter than the other.\n",
        "\n",
        "Types of Skewness:\n",
        "\n",
        "Positive Skewness (Right Skewness):\n",
        "The tail of the distribution extends more towards the right side.\n",
        "The majority of the data points are concentrated on the left side.\n",
        "The mean is typically greater than the median.\n",
        "Example: Income distribution, where a few individuals earn very high incomes, pulling the tail to the right.\n",
        "Negative Skewness (Left Skewness):\n",
        "The tail of the distribution extends more towards the left side.\n",
        "The majority of the data points are concentrated on the right side.\n",
        "The mean is typically less than the median.\n",
        "Example: Test scores on a very easy test, where most students score high, but a few score very low.\n",
        "\n",
        "Zero Skewness:\n",
        "The distribution is perfectly symmetrical.\n",
        "The mean, median, and mode are approximately equal.\n",
        "Example: A perfectly symmetrical bell curve (normal distribution).\n",
        "How Skewness Affects the Interpretation of Data:\n",
        "\n",
        "Measures of Central Tendency:\n",
        "In a skewed distribution, the mean is pulled in the direction of the tail. This means that the mean may not be a good representation of the \"typical\" value.\n",
        "The median, on the other hand, is less affected by extreme values and is often a better measure of central tendency in skewed distributions.\n",
        "Statistical Analysis:\n",
        "Many statistical tests assume that data are normally distributed. Skewness can violate these assumptions, leading to inaccurate results.\n",
        "In such cases, data transformations or non-parametric statistical methods may be necessary.\n",
        "\n",
        "Real-World Implications:\n",
        "Understanding skewness is crucial in various fields. For example:\n",
        "In finance, skewness can affect investment risk assessment.\n",
        "In healthcare, skewness in patient data can influence treatment decisions.\n",
        "In business, skewness in sales data can alter forecasting"
      ],
      "metadata": {
        "id": "4D2yR5Yoy4Cd"
      }
    },
    {
      "cell_type": "markdown",
      "source": [
        "###7. What is the interquartile range (IQR), and how is it used to detect outliers?"
      ],
      "metadata": {
        "id": "0Y20QPWhy4H1"
      }
    },
    {
      "cell_type": "markdown",
      "source": [
        "-> The interquartile range (IQR) is a measure of statistical dispersion, meaning it describes how spread out the middle portion of your data is. Here's a breakdown:\n",
        "\n",
        "What is the IQR?\n",
        "\n",
        "The IQR is the difference between the third quartile (Q3) and the first quartile (Q1) of a dataset.\n",
        "Q1 represents the 25th percentile (the value below which 25% of the data falls).\n",
        "Q3 represents the 75th percentile (the value below which 75% of the data falls).\n",
        "\n",
        "Therefore, the IQR represents the range of the middle 50% of the data.\n",
        "How the IQR is Used to Detect Outliers:\n",
        "\n",
        "The IQR is commonly used to identify potential outliers in a dataset. Here's how:\n",
        "\n",
        "Calculate the IQR:\n",
        "\n",
        "IQR = Q3 - Q1\n",
        "Determine the outlier boundaries (fences):\n",
        "\n",
        "Lower boundary: Q1 - (1.5 * IQR)\n",
        "Upper boundary: Q3 + (1.5 * IQR)\n",
        "Identify outliers:\n",
        "\n",
        "Any data point that falls below the lower boundary or above the upper boundary is considered a potential outlier.\n",
        "Why this method works:\n",
        "\n",
        "The IQR is a robust measure of spread, meaning it's less affected by extreme values than the overall range of the data.\n",
        "By using 1.5 times the IQR, the method establishes a reasonable threshold for identifying values that are significantly different from the bulk of the data."
      ],
      "metadata": {
        "id": "Kfs6kGaLy4NE"
      }
    },
    {
      "cell_type": "markdown",
      "source": [
        "###8. Discuss the conditions under which the binomial distribution is used."
      ],
      "metadata": {
        "id": "pJVKMQlFy4Sj"
      }
    },
    {
      "cell_type": "markdown",
      "source": [
        "-> The binomial distribution is a discrete probability distribution that describes the number of successes in a fixed number of independent trials, where each trial has only two possible outcomes: success or failure. To accurately apply the binomial distribution, several key conditions must be met:\n",
        "\n",
        "1. Fixed Number of Trials (n):\n",
        "\n",
        "The experiment must consist of a predetermined number of trials. You need to know in advance how many times the event will be repeated.\n",
        "For example, flipping a coin 10 times or rolling a die 5 times.\n",
        "2. Independent Trials:\n",
        "\n",
        "The outcome of each trial must be independent of the outcomes of all other trials.\n",
        "This means that the result of one trial does not influence the result of any other trial.\n",
        "For example, if you flip a coin, the outcome of the first flip does not affect the outcome of the second flip.\n",
        "3. Two Possible Outcomes (Success or Failure):\n",
        "\n",
        "Each trial must have only two possible outcomes, which are typically labeled as \"success\" and \"failure.\"\n",
        "These outcomes must be mutually exclusive (they cannot both occur at the same time).\n",
        "Examples:\n",
        "Heads or tails in a coin flip.\n",
        "Defective or non-defective item in a production line.\n",
        "Passing or failing a test.\n",
        "4. Constant Probability of Success (p):\n",
        "\n",
        "The probability of success (p) must remain constant from trial to trial.\n",
        "This means that the likelihood of success must be the same for every repetition of the experiment.\n",
        "For example, if the probability of getting heads on a coin flip is 0.5, it must remain 0.5 for every flip."
      ],
      "metadata": {
        "id": "vCMIIEGNy4Xy"
      }
    },
    {
      "cell_type": "markdown",
      "source": [
        "###9. Explain the properties of the normal distribution and the empirical rule (68-95-99.7 rule)."
      ],
      "metadata": {
        "id": "X4kUToBpy4cz"
      }
    },
    {
      "cell_type": "markdown",
      "source": [
        "-> The normal distribution, also known as the Gaussian distribution, is a fundamental concept in statistics. It's characterized by its symmetrical, bell-shaped curve.\n",
        "\n",
        "Properties of the Normal Distribution:\n",
        "\n",
        "Symmetry:\n",
        "The distribution is perfectly symmetrical around its mean. This means that the left and right halves of the curve are mirror images of each other.\n",
        "Mean, Median, and Mode:\n",
        "In a normal distribution, the mean, median, and mode are all equal and located at the center of the distribution.\n",
        "Bell-Shaped Curve:\n",
        "The curve has a distinctive bell shape, with the highest point at the mean.\n",
        "Defined by Mean and Standard Deviation:\n",
        "The normal distribution is completely defined by its mean (μ) and standard deviation (σ). The mean determines the center of the distribution, and the standard deviation determines its spread.\n",
        "Continuous Distribution:\n",
        "It's a continuous probability distribution, meaning that it can take on any value within a range.\n",
        "Total Area:\n",
        "The total area under the normal curve is equal to 1, or 100%.\n",
        "The Empirical Rule (68-95-99.7 Rule):\n",
        "\n",
        "The empirical rule provides a quick way to estimate the proportion of data that falls within certain ranges of a normal distribution. It states:\n",
        "\n",
        "68%:\n",
        "Approximately 68% of the data falls within one standard deviation of the mean (μ ± 1σ).\n",
        "95%:\n",
        "Approximately 95% of the data falls within two standard deviations of the mean (μ ± 2σ).\n",
        "99.7%:\n",
        "Approximately 99.7% of the data falls within three standard deviations of the mean (μ ± 3σ).\n",
        "\n"
      ],
      "metadata": {
        "id": "lbYKdqRZy4hm"
      }
    },
    {
      "cell_type": "markdown",
      "source": [
        "###10.  Provide a real-life example of a Poisson process and calculate the probability for a specific event.\n"
      ],
      "metadata": {
        "id": "6WBV1UBGy4l8"
      }
    },
    {
      "cell_type": "markdown",
      "source": [
        "->  Customer Arrivals at a Small Store\n",
        "\n",
        "Imagine a small convenience store. The owner observes that, on average, 10 customers arrive at the store every hour. We can model this as a Poisson process because:\n",
        "\n",
        "Events are independent: One customer's arrival doesn't influence another's.\n",
        "Events occur randomly: Customer arrivals happen unpredictably.\n",
        "Average rate is constant: The average rate of 10 customers per hour is assumed to be consistent."
      ],
      "metadata": {
        "id": "iYUyR4fYy4qi"
      }
    },
    {
      "cell_type": "code",
      "source": [
        "import math\n",
        "def poisson_probability(lambd_val, k):\n",
        "  return (math.exp(-lambd_val) * (lambd_val**k)) / math.factorial(k)\n",
        "  # Example 1: Probability of exactly 15 customers arriving in an hour (lambda = 10)\n",
        "lambda_1 = 10\n",
        "k_1 = 15\n",
        "probability_15 = poisson_probability(lambda_1, k_1)\n",
        "print(f\"Probability of exactly 15 customers: {probability_15:.5f}\")\n",
        "\n",
        "# Example 2: Probability of less than 5 customers arriving in an hour (lambda = 10)\n",
        "lambda_2 = 10\n",
        "probabilities_less_than_5 = [poisson_probability(lambda_2, i) for i in range(5)]\n",
        "total_probability_less_than_5 = sum(probabilities_less_than_5)\n",
        "print(f\"Probability of less than 5 customers: {total_probability_less_than_5:.5f}\")\n",
        ""
      ],
      "metadata": {
        "colab": {
          "base_uri": "https://localhost:8080/"
        },
        "id": "_QASTKcu2_Gv",
        "outputId": "140a0181-f27c-48e7-fa7a-fe1ef9603182"
      },
      "execution_count": 1,
      "outputs": [
        {
          "output_type": "stream",
          "name": "stdout",
          "text": [
            "Probability of exactly 15 customers: 0.03472\n",
            "Probability of less than 5 customers: 0.02925\n"
          ]
        }
      ]
    },
    {
      "cell_type": "markdown",
      "source": [
        "###11. Explain what a random variable is and differentiate between discrete and continuous random variables."
      ],
      "metadata": {
        "id": "Q9TtAdKIy4u8"
      }
    },
    {
      "cell_type": "markdown",
      "source": [
        "-> n probability and statistics, a random variable is a way to assign numerical values to the outcomes of a random phenomenon.\n",
        "\n",
        " Essentially, it's a variable whose possible values are outcomes of a random experiment.\n",
        " A random variable is a variable whose value is a numerical outcome of a random phenomenon.\n",
        "It provides a way to quantify the results of a random experiment.\n",
        "Random variables are typically denoted by capital letters (e.g., X, Y, Z).\n",
        "\n",
        "Discrete vs. Continuous Random Variables\n",
        "\n",
        "Random variables can be categorized into two main types: discrete and continuous.\n",
        "\n",
        "1. Discrete Random Variables:\n",
        "\n",
        "Definition:\n",
        "A discrete random variable can only take on a countable number of distinct values. These values are often integers.\n",
        "Think of it as values that you can count.\n",
        "\n",
        "2. Continuous Random Variables:\n",
        "\n",
        "Definition:\n",
        "A continuous random variable can take on any value within a given range or interval.\n",
        "These values can include fractions and decimals.\n",
        "Think of it as values that you can measure.\n",
        "Key Differences Summarized:\n",
        "\n",
        "Values:\n",
        "Discrete: Countable values.\n",
        "Continuous: Any value within a range.\n",
        "Probability:\n",
        "Discrete: Probability mass function (PMF).\n",
        "Continuous: Probability density function (PDF).\n",
        "Examples:\n",
        "Discrete: Number of items, counts.\n",
        "Continuous: Measurements like height, weight, time.\n"
      ],
      "metadata": {
        "id": "tPS-qap1y4y7"
      }
    },
    {
      "cell_type": "markdown",
      "source": [
        "###12. Provide an example dataset, calculate both covariance and correlation, and interpret the results."
      ],
      "metadata": {
        "id": "DZkvRR6Dy43C"
      }
    },
    {
      "cell_type": "code",
      "source": [
        "import numpy as np\n",
        "\n",
        "def calculate_covariance_correlation(x, y):\n",
        "\n",
        "    # Calculate covariance\n",
        "    covariance = np.cov(x, y)[0, 1]\n",
        "    print(f\"Covariance: {covariance}\")\n",
        "\n",
        "    # Calculate correlation\n",
        "    correlation = np.corrcoef(x, y)[0, 1]\n",
        "    print(f\"Correlation: {correlation}\")\n",
        "\n",
        "    # Interpretation (basic)\n",
        "    print(\"\\nInterpretation:\")\n",
        "    if covariance > 0:\n",
        "        print(\"  Positive covariance: As x increases, y tends to increase.\")\n",
        "    elif covariance < 0:\n",
        "        print(\"  Negative covariance: As x increases, y tends to decrease.\")\n",
        "    else:\n",
        "        print(\"  Zero covariance: No linear relationship detected.\")\n",
        "\n",
        "    if correlation > 0.7:\n",
        "        print(\"  Strong positive correlation: Strong linear relationship.\")\n",
        "    elif correlation < -0.7:\n",
        "        print(\"  Strong negative correlation: Strong inverse linear relationship.\")\n",
        "    elif -0.3 <= correlation <= 0.3:\n",
        "        print(\"  Weak or no linear correlation.\")\n",
        "    else:\n",
        "        print(\"  Moderate linear correlation.\")\n",
        "\n",
        "# Example Dataset\n",
        "x = np.array([2, 3, 4, 5, 6])\n",
        "y = np.array([60, 65, 75, 80, 85])\n",
        "\n",
        "calculate_covariance_correlation(x, y)"
      ],
      "metadata": {
        "colab": {
          "base_uri": "https://localhost:8080/"
        },
        "id": "6z5NqIgD5gyZ",
        "outputId": "dce9bd5a-9462-46df-e458-02441f946c2d"
      },
      "execution_count": 3,
      "outputs": [
        {
          "output_type": "stream",
          "name": "stdout",
          "text": [
            "Covariance: 16.25\n",
            "Correlation: 0.9912407071619304\n",
            "\n",
            "Interpretation:\n",
            "  Positive covariance: As x increases, y tends to increase.\n",
            "  Strong positive correlation: Strong linear relationship.\n"
          ]
        }
      ]
    },
    {
      "cell_type": "markdown",
      "source": [],
      "metadata": {
        "id": "wigLgeBwy4-9"
      }
    }
  ]
}